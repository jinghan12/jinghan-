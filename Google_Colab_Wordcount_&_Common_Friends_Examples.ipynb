{
  "nbformat": 4,
  "nbformat_minor": 0,
  "metadata": {
    "kernelspec": {
      "name": "python3",
      "display_name": "Python 3"
    },
    "colab": {
      "name": "Google_Colab_Wordcount_&_Common_Friends_Examples.ipynb",
      "provenance": [],
      "collapsed_sections": []
    }
  },
  "cells": [
    {
      "cell_type": "code",
      "metadata": {
        "scrolled": true,
        "id": "Gbizw0OcBfis",
        "colab_type": "code",
        "colab": {
          "base_uri": "https://localhost:8080/",
          "height": 1000
        },
        "outputId": "a5c433d9-10a1-4022-b01f-c71c24b28258"
      },
      "source": [
        "#Install Java Runtime 8\n",
        "import os       #importing os to set environment variable\n",
        "!apt-get remove -y java*\n",
        "def install_java():\n",
        "  !apt-get install -y openjdk-8-jdk-headless -qq > /dev/null      #install openjdk\n",
        "  os.environ[\"JAVA_HOME\"] = \"/usr/lib/jvm/java-8-openjdk-amd64\"     #set environment variable\n",
        "  !java -version       #check java version\n",
        "install_java()"
      ],
      "execution_count": 1,
      "outputs": [
        {
          "output_type": "stream",
          "text": [
            "Reading package lists... Done\n",
            "Building dependency tree       \n",
            "Reading state information... Done\n",
            "Note, selecting 'java-propose-classpath' for glob 'java*'\n",
            "Note, selecting 'java2-sdk' for glob 'java*'\n",
            "Note, selecting 'java2html' for glob 'java*'\n",
            "Note, selecting 'java9-sdk-headless' for glob 'java*'\n",
            "Note, selecting 'java-gcj-compat' for glob 'java*'\n",
            "Note, selecting 'javascript-common' for glob 'java*'\n",
            "Note, selecting 'java11-runtime' for glob 'java*'\n",
            "Note, selecting 'javacc4' for glob 'java*'\n",
            "Note, selecting 'java3ds-fileloader' for glob 'java*'\n",
            "Note, selecting 'java10-runtime' for glob 'java*'\n",
            "Note, selecting 'javahelp2-doc' for glob 'java*'\n",
            "Note, selecting 'java-sdk-headless' for glob 'java*'\n",
            "Note, selecting 'java-sdk' for glob 'java*'\n",
            "Note, selecting 'java6-sdk-headless' for glob 'java*'\n",
            "Note, selecting 'java11-sdk' for glob 'java*'\n",
            "Note, selecting 'java10-sdk-headless' for glob 'java*'\n",
            "Note, selecting 'javalex' for glob 'java*'\n",
            "Note, selecting 'java-compiler' for glob 'java*'\n",
            "Note, selecting 'java1-runtime-headless' for glob 'java*'\n",
            "Note, selecting 'java-runtime' for glob 'java*'\n",
            "Note, selecting 'java9-sdk' for glob 'java*'\n",
            "Note, selecting 'java2-runtime' for glob 'java*'\n",
            "Note, selecting 'java10-runtime-headless' for glob 'java*'\n",
            "Note, selecting 'javamorph' for glob 'java*'\n",
            "Note, selecting 'java7-sdk' for glob 'java*'\n",
            "Note, selecting 'java1-runtime' for glob 'java*'\n",
            "Note, selecting 'java2-runtime-headless' for glob 'java*'\n",
            "Note, selecting 'javahelper' for glob 'java*'\n",
            "Note, selecting 'java5-runtime' for glob 'java*'\n",
            "Note, selecting 'java5-sdk' for glob 'java*'\n",
            "Note, selecting 'java11-runtime-headless' for glob 'java*'\n",
            "Note, selecting 'java7-sdk-headless' for glob 'java*'\n",
            "Note, selecting 'javacc4-doc' for glob 'java*'\n",
            "Note, selecting 'java7-runtime' for glob 'java*'\n",
            "Note, selecting 'java6-runtime' for glob 'java*'\n",
            "Note, selecting 'javacc' for glob 'java*'\n",
            "Note, selecting 'java-runtime-headless' for glob 'java*'\n",
            "Note, selecting 'java9-runtime' for glob 'java*'\n",
            "Note, selecting 'java5-runtime-headless' for glob 'java*'\n",
            "Note, selecting 'java8-runtime' for glob 'java*'\n",
            "Note, selecting 'java5-sdk-headless' for glob 'java*'\n",
            "Note, selecting 'java11-sdk-headless' for glob 'java*'\n",
            "Note, selecting 'java10-sdk' for glob 'java*'\n",
            "Note, selecting 'javahelp2' for glob 'java*'\n",
            "Note, selecting 'java6-runtime-headless' for glob 'java*'\n",
            "Note, selecting 'java8-sdk-headless' for glob 'java*'\n",
            "Note, selecting 'javacc-doc' for glob 'java*'\n",
            "Note, selecting 'java7-runtime-headless' for glob 'java*'\n",
            "Note, selecting 'java-package' for glob 'java*'\n",
            "Note, selecting 'java2-sdk-headless' for glob 'java*'\n",
            "Note, selecting 'java8-sdk' for glob 'java*'\n",
            "Note, selecting 'java8-runtime-headless' for glob 'java*'\n",
            "Note, selecting 'java-common' for glob 'java*'\n",
            "Note, selecting 'java6-sdk' for glob 'java*'\n",
            "Note, selecting 'java-wrappers' for glob 'java*'\n",
            "Note, selecting 'java-virtual-machine' for glob 'java*'\n",
            "Note, selecting 'java-policy' for glob 'java*'\n",
            "Note, selecting 'java9-runtime-headless' for glob 'java*'\n",
            "Package 'java1-runtime-headless' is not installed, so not removed\n",
            "Package 'java1-runtime' is not installed, so not removed\n",
            "Package 'javalex' is not installed, so not removed\n",
            "Package 'java-virtual-machine' is not installed, so not removed\n",
            "Package 'java-gcj-compat' is not installed, so not removed\n",
            "Package 'javascript-common' is not installed, so not removed\n",
            "Package 'java-policy' is not installed, so not removed\n",
            "Package 'java-wrappers' is not installed, so not removed\n",
            "Package 'java2html' is not installed, so not removed\n",
            "Package 'java3ds-fileloader' is not installed, so not removed\n",
            "Package 'javacc' is not installed, so not removed\n",
            "Package 'javacc-doc' is not installed, so not removed\n",
            "Package 'javacc4' is not installed, so not removed\n",
            "Package 'javacc4-doc' is not installed, so not removed\n",
            "Package 'javahelp2' is not installed, so not removed\n",
            "Package 'javahelp2-doc' is not installed, so not removed\n",
            "Package 'javamorph' is not installed, so not removed\n",
            "Package 'java-package' is not installed, so not removed\n",
            "Package 'java-propose-classpath' is not installed, so not removed\n",
            "Package 'javahelper' is not installed, so not removed\n",
            "The following packages were automatically installed and are no longer required:\n",
            "  cuda-demo-suite-10-0 cuda-documentation-10-0 cuda-drivers\n",
            "  cuda-nsight-compute-10-0 cuda-runtime-10-0 cuda-samples-10-0 dkms freeglut3\n",
            "  freeglut3-dev keyboard-configuration libargon2-0 libcap2 libcryptsetup12\n",
            "  libdevmapper1.02.1 libfontenc1 libidn11 libip4tc0 libjansson4\n",
            "  libnvidia-common-418 libnvidia-decode-418 libnvidia-decode-430\n",
            "  libnvidia-encode-418 libnvidia-encode-430 libnvidia-fbc1-418\n",
            "  libnvidia-fbc1-430 libnvidia-ifr1-418 libnvidia-ifr1-430 libpam-systemd\n",
            "  libpcsclite1 libpolkit-agent-1-0 libpolkit-backend-1-0 libpolkit-gobject-1-0\n",
            "  libxfont2 libxi-dev libxkbfile1 libxmu-dev libxmu-headers libxnvctrl0\n",
            "  libxtst6 nvidia-compute-utils-418 nvidia-compute-utils-430 nvidia-dkms-418\n",
            "  nvidia-dkms-430 nvidia-driver-418 nvidia-driver-430 nvidia-kernel-common-418\n",
            "  nvidia-kernel-common-430 nvidia-kernel-source-418 nvidia-kernel-source-430\n",
            "  nvidia-modprobe nvidia-settings nvidia-utils-418 nvidia-utils-430\n",
            "  policykit-1 policykit-1-gnome python3-xkit screen-resolution-extra systemd\n",
            "  systemd-sysv udev x11-xkb-utils xserver-common xserver-xorg-core-hwe-18.04\n",
            "  xserver-xorg-video-nvidia-418 xserver-xorg-video-nvidia-430\n",
            "Use 'apt autoremove' to remove them.\n",
            "The following packages will be REMOVED:\n",
            "  ca-certificates-java cuda-10-0 cuda-nsight-10-0 cuda-nvvp-10-0\n",
            "  cuda-toolkit-10-0 cuda-tools-10-0 cuda-visual-tools-10-0 default-jre\n",
            "  default-jre-headless java-common openjdk-11-jre openjdk-11-jre-headless\n",
            "  openjdk-8-jdk-headless openjdk-8-jre-headless\n",
            "0 upgraded, 0 newly installed, 14 to remove and 28 not upgraded.\n",
            "After this operation, 753 MB disk space will be freed.\n",
            "(Reading database ... 132681 files and directories currently installed.)\n",
            "Removing openjdk-8-jdk-headless:amd64 (8u222-b10-1ubuntu1~18.04.1) ...\n",
            "Removing cuda-10-0 (10.0.130-1) ...\n",
            "Removing cuda-toolkit-10-0 (10.0.130-1) ...\n",
            "Removing cuda-tools-10-0 (10.0.130-1) ...\n",
            "Removing cuda-visual-tools-10-0 (10.0.130-1) ...\n",
            "Removing cuda-nvvp-10-0 (10.0.130-1) ...\n",
            "Removing openjdk-8-jre-headless:amd64 (8u222-b10-1ubuntu1~18.04.1) ...\n",
            "Removing cuda-nsight-10-0 (10.0.130-1) ...\n",
            "Removing default-jre (2:1.11-68ubuntu1~18.04.1) ...\n",
            "Removing openjdk-11-jre:amd64 (11.0.4+11-1ubuntu2~18.04.3) ...\n",
            "Removing default-jre-headless (2:1.11-68ubuntu1~18.04.1) ...\n",
            "Removing ca-certificates-java (20180516ubuntu1~18.04.1) ...\n",
            "Removing openjdk-11-jre-headless:amd64 (11.0.4+11-1ubuntu2~18.04.3) ...\n",
            "Removing java-common (0.68ubuntu1~18.04.1) ...\n",
            "Processing triggers for mime-support (3.60ubuntu1) ...\n",
            "Processing triggers for man-db (2.8.3-2ubuntu0.1) ...\n",
            "Processing triggers for ca-certificates (20180409) ...\n",
            "Updating certificates in /etc/ssl/certs...\n",
            "0 added, 0 removed; done.\n",
            "Running hooks in /etc/ca-certificates/update.d...\n",
            "\n",
            "updates of cacerts keystore disabled.\n",
            "done.\n",
            "Processing triggers for hicolor-icon-theme (0.17-2) ...\n",
            "openjdk version \"1.8.0_222\"\n",
            "OpenJDK Runtime Environment (build 1.8.0_222-8u222-b10-1ubuntu1~18.04.1-b10)\n",
            "OpenJDK 64-Bit Server VM (build 25.222-b10, mixed mode)\n"
          ],
          "name": "stdout"
        }
      ]
    },
    {
      "cell_type": "code",
      "metadata": {
        "id": "-cm1g7UyFBRe",
        "colab_type": "code",
        "colab": {
          "base_uri": "https://localhost:8080/",
          "height": 275
        },
        "outputId": "bc2dcb8a-f564-426c-8628-7cca3c816dcf"
      },
      "source": [
        "#Initialize Spark Runtime Environment\n",
        "!export JAVA_HOME=/usr/lib/jvm/java-8-openjdk-amd64/jre\n",
        "!pip install pyspark\n",
        "import pyspark\n",
        "from pyspark.sql import SparkSession\n",
        "import pandas as pd\n",
        "from pyspark.sql import SQLContext\n",
        "\n",
        "spark = SparkSession.builder \\\n",
        "   .master(\"local\") \\\n",
        "   .appName(\"Wordcount & Friends Tutorial\") \\\n",
        "   .config(\"spark.executor.memory\", \"2gb\") \\\n",
        "   .getOrCreate()\n",
        "   \n",
        "sc = spark.sparkContext\n",
        "sqlContext = SQLContext(sc)\n",
        "\n",
        "sc.version"
      ],
      "execution_count": 2,
      "outputs": [
        {
          "output_type": "stream",
          "text": [
            "Collecting pyspark\n",
            "\u001b[?25l  Downloading https://files.pythonhosted.org/packages/87/21/f05c186f4ddb01d15d0ddc36ef4b7e3cedbeb6412274a41f26b55a650ee5/pyspark-2.4.4.tar.gz (215.7MB)\n",
            "\u001b[K     |████████████████████████████████| 215.7MB 56kB/s \n",
            "\u001b[?25hCollecting py4j==0.10.7\n",
            "\u001b[?25l  Downloading https://files.pythonhosted.org/packages/e3/53/c737818eb9a7dc32a7cd4f1396e787bd94200c3997c72c1dbe028587bd76/py4j-0.10.7-py2.py3-none-any.whl (197kB)\n",
            "\u001b[K     |████████████████████████████████| 204kB 52.3MB/s \n",
            "\u001b[?25hBuilding wheels for collected packages: pyspark\n",
            "  Building wheel for pyspark (setup.py) ... \u001b[?25l\u001b[?25hdone\n",
            "  Created wheel for pyspark: filename=pyspark-2.4.4-py2.py3-none-any.whl size=216130387 sha256=034803c43bd5a82518381544bda3569e994f038e6bd940a37f6ce3378fd34654\n",
            "  Stored in directory: /root/.cache/pip/wheels/ab/09/4d/0d184230058e654eb1b04467dbc1292f00eaa186544604b471\n",
            "Successfully built pyspark\n",
            "Installing collected packages: py4j, pyspark\n",
            "Successfully installed py4j-0.10.7 pyspark-2.4.4\n"
          ],
          "name": "stdout"
        },
        {
          "output_type": "execute_result",
          "data": {
            "text/plain": [
              "'2.4.4'"
            ]
          },
          "metadata": {
            "tags": []
          },
          "execution_count": 2
        }
      ]
    },
    {
      "cell_type": "markdown",
      "metadata": {
        "id": "yJS7s4JaBfiy",
        "colab_type": "text"
      },
      "source": [
        "PART-1:  \"WORDCOUNT\" EXAMPLE USING MAPREDUCE"
      ]
    },
    {
      "cell_type": "code",
      "metadata": {
        "scrolled": true,
        "id": "MS4nn8uMBfiz",
        "colab_type": "code",
        "colab": {
          "base_uri": "https://localhost:8080/",
          "height": 442
        },
        "outputId": "375ade0a-0f17-420a-859f-5c4461313a11"
      },
      "source": [
        "# Fetch the text file for wordcount example\n",
        "!wget https://raw.githubusercontent.com/ibarabasi/wordcount/master/wordcount\n",
        "!cat wordcount"
      ],
      "execution_count": 3,
      "outputs": [
        {
          "output_type": "stream",
          "text": [
            "--2019-10-29 00:40:07--  https://raw.githubusercontent.com/ibarabasi/wordcount/master/wordcount\n",
            "Resolving raw.githubusercontent.com (raw.githubusercontent.com)... 151.101.0.133, 151.101.64.133, 151.101.128.133, ...\n",
            "Connecting to raw.githubusercontent.com (raw.githubusercontent.com)|151.101.0.133|:443... connected.\n",
            "HTTP request sent, awaiting response... 200 OK\n",
            "Length: 710 [text/plain]\n",
            "Saving to: ‘wordcount’\n",
            "\n",
            "\rwordcount             0%[                    ]       0  --.-KB/s               \rwordcount           100%[===================>]     710  --.-KB/s    in 0s      \n",
            "\n",
            "2019-10-29 00:40:07 (59.4 MB/s) - ‘wordcount’ saved [710/710]\n",
            "\n",
            "Big data refers to the massive amount of data which cannot be stored, processed and analyzed using traditional ways.\n",
            "The main elements of big data are:\n",
            "Volume - There is a massive amount of data generated every second.\n",
            "Velocity - The speed at which data is generated, collected and analyzed\n",
            "Variety - The different types of data: structured, semi-structured, unstructured\n",
            "Value - The ability to turn data into useful insights for your business\n",
            "Veracity - Trustworthiness in terms of quality and accuracy\n",
            "The main challenges that big data faced and the solutions for each are listed below:\n",
            "Single central storage\n",
            "Serial processing\n",
            "One input\n",
            "One Output\n",
            "One Processor\n",
            "Lack of ability to process unstructured data\n"
          ],
          "name": "stdout"
        }
      ]
    },
    {
      "cell_type": "code",
      "metadata": {
        "id": "g3xYUMwgBfi1",
        "colab_type": "code",
        "colab": {
          "base_uri": "https://localhost:8080/",
          "height": 255
        },
        "outputId": "ec0c2df3-ebe4-40d8-bfbc-e8fc3b12e58e"
      },
      "source": [
        "#Simple example to read text file\n",
        "rdd0 = sc.textFile(\"wordcount\")\n",
        "rdd0.take(20)"
      ],
      "execution_count": 4,
      "outputs": [
        {
          "output_type": "execute_result",
          "data": {
            "text/plain": [
              "['Big data refers to the massive amount of data which cannot be stored, processed and analyzed using traditional ways.',\n",
              " 'The main elements of big data are:',\n",
              " 'Volume - There is a massive amount of data generated every second.',\n",
              " 'Velocity - The speed at which data is generated, collected and analyzed',\n",
              " 'Variety - The different types of data: structured, semi-structured, unstructured',\n",
              " 'Value - The ability to turn data into useful insights for your business',\n",
              " 'Veracity - Trustworthiness in terms of quality and accuracy',\n",
              " 'The main challenges that big data faced and the solutions for each are listed below:',\n",
              " 'Single central storage',\n",
              " 'Serial processing',\n",
              " 'One input',\n",
              " 'One Output',\n",
              " 'One Processor',\n",
              " 'Lack of ability to process unstructured data']"
            ]
          },
          "metadata": {
            "tags": []
          },
          "execution_count": 4
        }
      ]
    },
    {
      "cell_type": "code",
      "metadata": {
        "id": "vHUSahn0Bfi3",
        "colab_type": "code",
        "colab": {
          "base_uri": "https://localhost:8080/",
          "height": 527
        },
        "outputId": "14721ae6-b4a4-492d-8ce4-8fc73402c8a2"
      },
      "source": [
        "word_counts = rdd0.flatMap(lambda line: line.split()).map(lambda word: (word, 1)).reduceByKey(lambda a, b: (a + b)).map(lambda x:(x[1],x[0]))\n",
        "\n",
        "word_counts.take(30)\n"
      ],
      "execution_count": 5,
      "outputs": [
        {
          "output_type": "execute_result",
          "data": {
            "text/plain": [
              "[(1, 'Big'),\n",
              " (8, 'data'),\n",
              " (1, 'refers'),\n",
              " (3, 'to'),\n",
              " (2, 'the'),\n",
              " (2, 'massive'),\n",
              " (2, 'amount'),\n",
              " (6, 'of'),\n",
              " (2, 'which'),\n",
              " (1, 'cannot'),\n",
              " (1, 'be'),\n",
              " (1, 'stored,'),\n",
              " (1, 'processed'),\n",
              " (4, 'and'),\n",
              " (2, 'analyzed'),\n",
              " (1, 'using'),\n",
              " (1, 'traditional'),\n",
              " (1, 'ways.'),\n",
              " (5, 'The'),\n",
              " (2, 'main'),\n",
              " (1, 'elements'),\n",
              " (2, 'big'),\n",
              " (1, 'are:'),\n",
              " (1, 'Volume'),\n",
              " (5, '-'),\n",
              " (1, 'There'),\n",
              " (2, 'is'),\n",
              " (1, 'a'),\n",
              " (1, 'generated'),\n",
              " (1, 'every')]"
            ]
          },
          "metadata": {
            "tags": []
          },
          "execution_count": 5
        }
      ]
    },
    {
      "cell_type": "code",
      "metadata": {
        "id": "6LTmTVaDBfi5",
        "colab_type": "code",
        "colab": {}
      },
      "source": [
        ""
      ],
      "execution_count": 0,
      "outputs": []
    },
    {
      "cell_type": "markdown",
      "metadata": {
        "id": "qdhk4DAvBfi7",
        "colab_type": "text"
      },
      "source": [
        "PART-2:  \"COMMON FRIENDS\" EXAMPLE USINg MAPREDUCE"
      ]
    },
    {
      "cell_type": "code",
      "metadata": {
        "id": "De0FS6zUBfi8",
        "colab_type": "code",
        "colab": {
          "base_uri": "https://localhost:8080/",
          "height": 510
        },
        "outputId": "4872eae6-03c5-40f8-89f3-0a680c6e84fc"
      },
      "source": [
        "# Load data from github\n",
        "!wget \"https://raw.githubusercontent.com/ibarabasi/wordcount/master/friends\"\n",
        "rdd = sc.textFile(\"friends\")\n",
        "!cat friends"
      ],
      "execution_count": 6,
      "outputs": [
        {
          "output_type": "stream",
          "text": [
            "--2019-10-29 00:40:25--  https://raw.githubusercontent.com/ibarabasi/wordcount/master/friends\n",
            "Resolving raw.githubusercontent.com (raw.githubusercontent.com)... 151.101.0.133, 151.101.64.133, 151.101.128.133, ...\n",
            "Connecting to raw.githubusercontent.com (raw.githubusercontent.com)|151.101.0.133|:443... connected.\n",
            "HTTP request sent, awaiting response... 200 OK\n",
            "Length: 193 [text/plain]\n",
            "Saving to: ‘friends’\n",
            "\n",
            "\rfriends               0%[                    ]       0  --.-KB/s               \rfriends             100%[===================>]     193  --.-KB/s    in 0s      \n",
            "\n",
            "2019-10-29 00:40:25 (42.6 MB/s) - ‘friends’ saved [193/193]\n",
            "\n",
            "me Alice\n",
            "Henry me\n",
            "Henry Alice\n",
            "me Jane\n",
            "Alice John\n",
            "Jane John\n",
            "Judy Alice\n",
            "me Mary\n",
            "Mary Joyce\n",
            "Joyce Henry\n",
            "Judy me\n",
            "Judy Jane\n",
            "John Carol\n",
            "Carol me\n",
            "Mary Henry\n",
            "Louise Ronald\n",
            "Ronald Thomas\n",
            "William Thomas\n"
          ],
          "name": "stdout"
        }
      ]
    },
    {
      "cell_type": "code",
      "metadata": {
        "id": "dzxa1wFwBfi-",
        "colab_type": "code",
        "colab": {
          "base_uri": "https://localhost:8080/",
          "height": 323
        },
        "outputId": "558199aa-2543-4a91-98c6-2acd418979c6"
      },
      "source": [
        "# Print the RDD content\n",
        "rdd.take(20)"
      ],
      "execution_count": 7,
      "outputs": [
        {
          "output_type": "execute_result",
          "data": {
            "text/plain": [
              "['me Alice',\n",
              " 'Henry me',\n",
              " 'Henry Alice',\n",
              " 'me Jane',\n",
              " 'Alice John',\n",
              " 'Jane John',\n",
              " 'Judy Alice',\n",
              " 'me Mary',\n",
              " 'Mary Joyce',\n",
              " 'Joyce Henry',\n",
              " 'Judy me',\n",
              " 'Judy Jane',\n",
              " 'John Carol',\n",
              " 'Carol me',\n",
              " 'Mary Henry',\n",
              " 'Louise Ronald',\n",
              " 'Ronald Thomas',\n",
              " 'William Thomas']"
            ]
          },
          "metadata": {
            "tags": []
          },
          "execution_count": 7
        }
      ]
    },
    {
      "cell_type": "code",
      "metadata": {
        "id": "mFa-JguKBfjA",
        "colab_type": "code",
        "colab": {
          "base_uri": "https://localhost:8080/",
          "height": 51
        },
        "outputId": "42dc2f92-a745-4e6c-b897-56ce59b3d95c"
      },
      "source": [
        "rdd1=rdd.map(lambda x: x.split()).union(rdd.map(lambda x: x.split()[::-1]))\n",
        "# Bring my friend list to local\n",
        "lst = rdd1.filter(lambda x: x[0] == 'me').map(lambda x: x[1]).collect()\n",
        "# Build the second pair RDD\n",
        "rdd2 = rdd1.filter(lambda x: x[0] in lst).map(lambda x: x[1]). \\\n",
        "    filter(lambda x: x != 'me' and x not in lst). \\\n",
        "    map(lambda x: (x, 1)).reduceByKey(lambda a, b: a + b). \\\n",
        "    map(lambda x: (x[1], x[0])).sortByKey(ascending = False)\n",
        "# Bring the result to local since the sample is small\n",
        "for x, y in rdd2.collect():\n",
        "   print (\"The stranger {} has {} common friends with me\".format(y, x))\n"
      ],
      "execution_count": 8,
      "outputs": [
        {
          "output_type": "stream",
          "text": [
            "The stranger John has 3 common friends with me\n",
            "The stranger Joyce has 2 common friends with me\n"
          ],
          "name": "stdout"
        }
      ]
    },
    {
      "cell_type": "code",
      "metadata": {
        "id": "m1bHIAzFBfjC",
        "colab_type": "code",
        "colab": {}
      },
      "source": [
        ""
      ],
      "execution_count": 0,
      "outputs": []
    }
  ]
}